{
 "cells": [
  {
   "cell_type": "code",
   "execution_count": 1,
   "id": "552bc933-82cb-432d-81c4-3844e0634c0a",
   "metadata": {},
   "outputs": [],
   "source": [
    "import pandas as pd\n",
    "import numpy as np\n",
    "from sklearn.model_selection import train_test_split\n",
    "from sklearn.preprocessing import StandardScaler\n",
    "import torch\n",
    "import torch.nn as nn\n",
    "import torch.optim as optim\n",
    "from torch.utils.data import DataLoader, TensorDataset\n",
    "from sklearn.metrics import confusion_matrix, accuracy_score, precision_score, recall_score, f1_score"
   ]
  },
  {
   "cell_type": "code",
   "execution_count": 2,
   "id": "668c1399-fb57-4e3b-becb-b47ed9ec1472",
   "metadata": {},
   "outputs": [
    {
     "name": "stdout",
     "output_type": "stream",
     "text": [
      "The first few rows of data:\n",
      "   ID        P1        P2        P3        P4    P5        P6       BC1  BC2  \\\n",
      "0   1  0.733800  0.588313  0.824660  0.420993  0.00  0.599542  0.257812    0   \n",
      "1   2  0.738113  0.604497  0.477239  0.252442  0.75  0.544622  0.148438    0   \n",
      "2   3  0.742815  0.602485  0.755395  0.434462  0.75  0.560641  0.093750    1   \n",
      "3   4  0.739635  0.602389  0.768629  0.484940  0.75  0.556064  0.148438    0   \n",
      "4   5  0.740052  0.605121  0.783227  0.486592  0.75  0.542334  0.148438    0   \n",
      "\n",
      "   BC3  BC4  BC5  BC6       BC7       BC8  DS  \n",
      "0  0.0    0  0.8  1.0  0.000000  0.827586   4  \n",
      "1  0.0    1  0.8  1.0  0.666667  0.931034   1  \n",
      "2  1.0    1  0.8  1.0  0.000000  0.655172   1  \n",
      "3  0.0    0  0.8  1.0  0.000000  0.965517   1  \n",
      "4  0.0    1  0.8  0.5  0.666667  0.931034   1  \n",
      "\n",
      "Data information:\n",
      "<class 'pandas.core.frame.DataFrame'>\n",
      "RangeIndex: 30590 entries, 0 to 30589\n",
      "Data columns (total 16 columns):\n",
      " #   Column  Non-Null Count  Dtype  \n",
      "---  ------  --------------  -----  \n",
      " 0   ID      30590 non-null  int64  \n",
      " 1   P1      30590 non-null  float64\n",
      " 2   P2      30590 non-null  float64\n",
      " 3   P3      30590 non-null  float64\n",
      " 4   P4      30590 non-null  float64\n",
      " 5   P5      30590 non-null  float64\n",
      " 6   P6      30590 non-null  float64\n",
      " 7   BC1     30590 non-null  float64\n",
      " 8   BC2     30590 non-null  int64  \n",
      " 9   BC3     30590 non-null  float64\n",
      " 10  BC4     30590 non-null  int64  \n",
      " 11  BC5     30590 non-null  float64\n",
      " 12  BC6     30590 non-null  float64\n",
      " 13  BC7     30590 non-null  float64\n",
      " 14  BC8     30590 non-null  float64\n",
      " 15  DS      30590 non-null  int64  \n",
      "dtypes: float64(12), int64(4)\n",
      "memory usage: 3.7 MB\n",
      "None\n"
     ]
    }
   ],
   "source": [
    "file_path = r'C:\\Users\\sjh\\Desktop\\JUPITER\\Earthquake Damage Data111.xlsx'\n",
    "\n",
    "df = pd.read_excel(file_path)\n",
    "\n",
    "# View data structure\n",
    "print(\"The first few rows of data:\")\n",
    "print(df.head())\n",
    "print(\"\\nData information:\")\n",
    "print(df.info())"
   ]
  },
  {
   "cell_type": "code",
   "execution_count": 3,
   "id": "da5ff407-3a39-461a-bc2c-848ce6c3b25c",
   "metadata": {},
   "outputs": [
    {
     "name": "stdout",
     "output_type": "stream",
     "text": [
      "\n",
      "Check data type:\n",
      "Data type of X: float64\n",
      "Data type of y: int64\n"
     ]
    }
   ],
   "source": [
    "# Extracting features and labels\n",
    "X = df.iloc[1:, :-1].values\n",
    "y = df.iloc[1:, -1].values\n",
    "\n",
    "# Check data type\n",
    "print(\"\\nCheck data type:\")\n",
    "print(\"Data type of X:\", X.dtype)\n",
    "print(\"Data type of y:\", y.dtype)\n",
    "\n",
    "# Label conversion\n",
    "y = y - 1\n",
    "\n",
    "# Data Normalization\n",
    "scaler = StandardScaler()\n",
    "X = scaler.fit_transform(X)\n",
    "\n",
    "# Divide the training set and test set\n",
    "X_train, X_test, y_train, y_test = train_test_split(X, y, test_size=0.2, random_state=42)\n",
    "\n",
    "# Convert to PyTorch Tensor\n",
    "X_train_tensor = torch.tensor(X_train, dtype=torch.float32)\n",
    "y_train_tensor = torch.tensor(y_train, dtype=torch.long)\n",
    "X_test_tensor = torch.tensor(X_test, dtype=torch.float32)\n",
    "y_test_tensor = torch.tensor(y_test, dtype=torch.long)\n",
    "\n",
    "# Creating a Data Loader\n",
    "train_dataset = TensorDataset(X_train_tensor, y_train_tensor)\n",
    "train_loader = DataLoader(train_dataset, batch_size=32, shuffle=True)"
   ]
  },
  {
   "cell_type": "code",
   "execution_count": 4,
   "id": "d3a668e9-4d11-43b0-9a1c-ebcf933ab11e",
   "metadata": {},
   "outputs": [],
   "source": [
    "# Defining the ANN model\n",
    "class ANN(nn.Module):\n",
    "    def __init__(self, input_size, hidden_size1, hidden_size2, num_classes):\n",
    "        super(ANN, self).__init__()\n",
    "        self.layer1 = nn.Linear(input_size, hidden_size1)\n",
    "        self.relu1 = nn.ReLU()\n",
    "        self.layer2 = nn.Linear(hidden_size1, hidden_size2)\n",
    "        self.relu2 = nn.ReLU()\n",
    "        self.layer3 = nn.Linear(hidden_size2, num_classes)\n",
    "    \n",
    "    def forward(self, x):\n",
    "        x = self.layer1(x)\n",
    "        x = self.relu1(x)\n",
    "        x = self.layer2(x)\n",
    "        x = self.relu2(x)\n",
    "        x = self.layer3(x)\n",
    "        return x\n",
    "\n",
    "# Initialize the model\n",
    "input_size = X_train.shape[1]\n",
    "hidden_size1 = 64\n",
    "hidden_size2 = 32\n",
    "num_classes = 4\n",
    "model = ANN(input_size, hidden_size1, hidden_size2, num_classes)\n",
    "\n",
    "# Defining loss function and optimizer\n",
    "class_counts = np.bincount(y_train) \n",
    "class_weights = 1.0 / class_counts  \n",
    "class_weights = torch.tensor(class_weights, dtype=torch.float32)\n",
    "criterion = nn.CrossEntropyLoss(weight=class_weights)\n",
    "optimizer = optim.Adam(model.parameters(), lr=0.001)\n"
   ]
  },
  {
   "cell_type": "code",
   "execution_count": 5,
   "id": "d2c2d348-058e-4620-a309-f36321e3cb0d",
   "metadata": {},
   "outputs": [
    {
     "name": "stdout",
     "output_type": "stream",
     "text": [
      "Epoch [10/100], Loss: 0.7543\n",
      "Epoch [20/100], Loss: 0.5439\n",
      "Epoch [30/100], Loss: 0.4519\n",
      "Epoch [40/100], Loss: 0.6145\n",
      "Epoch [50/100], Loss: 0.5625\n",
      "Epoch [60/100], Loss: 0.5582\n",
      "Epoch [70/100], Loss: 0.4049\n",
      "Epoch [80/100], Loss: 1.3003\n",
      "Epoch [90/100], Loss: 0.4836\n",
      "Epoch [100/100], Loss: 0.2011\n"
     ]
    }
   ],
   "source": [
    "# Training\n",
    "num_epochs = 100\n",
    "for epoch in range(num_epochs):\n",
    "    for batch_X, batch_y in train_loader:\n",
    "        outputs = model(batch_X)\n",
    "        loss = criterion(outputs, batch_y)\n",
    "        \n",
    "        optimizer.zero_grad()\n",
    "        loss.backward()\n",
    "        optimizer.step()\n",
    "    \n",
    "    if (epoch+1) % 10 == 0:\n",
    "        print(f'Epoch [{epoch+1}/{num_epochs}], Loss: {loss.item():.4f}')"
   ]
  },
  {
   "cell_type": "code",
   "execution_count": 6,
   "id": "70214977-384e-46e9-b89b-2484dde49e6f",
   "metadata": {},
   "outputs": [
    {
     "name": "stdout",
     "output_type": "stream",
     "text": [
      "Confusion Matrix:\n",
      "[[3900  117  252 1278]\n",
      " [   9    8    0    0]\n",
      " [  19    2    3    8]\n",
      " [ 148    2   17  355]]\n",
      "Accuracy: 0.6972866949983655\n",
      "Precision: 0.3115492082473091\n",
      "Recall: 0.48687440276941296\n",
      "F1 Score: 0.3170329313027475\n"
     ]
    }
   ],
   "source": [
    "# Evaluate the model on the test set\n",
    "with torch.no_grad():\n",
    "    outputs = model(X_test_tensor)\n",
    "    _, predicted = torch.max(outputs, 1)\n",
    "    y_pred = predicted.numpy()\n",
    "\n",
    "# Restore original label range\n",
    "y_pred_original = y_pred + 1\n",
    "y_test_original = y_test + 1\n",
    "\n",
    "# Calculating evaluation metrics\n",
    "conf_matrix = confusion_matrix(y_test_original, y_pred_original)\n",
    "accuracy = accuracy_score(y_test_original, y_pred_original)\n",
    "precision = precision_score(y_test_original, y_pred_original, average='macro')\n",
    "recall = recall_score(y_test_original, y_pred_original, average='macro')\n",
    "f1 = f1_score(y_test_original, y_pred_original, average='macro')\n",
    "\n",
    "\n",
    "print(\"Confusion Matrix:\")\n",
    "print(conf_matrix)\n",
    "print(f\"Accuracy: {accuracy}\")\n",
    "print(f\"Precision: {precision}\")\n",
    "print(f\"Recall: {recall}\")\n",
    "print(f\"F1 Score: {f1}\")"
   ]
  },
  {
   "cell_type": "code",
   "execution_count": 7,
   "id": "9f403a67-c348-4521-b520-cf6b206f582a",
   "metadata": {},
   "outputs": [
    {
     "name": "stdout",
     "output_type": "stream",
     "text": [
      "\n",
      "Precision (recall) for each category:\n",
      "DS=1 's accuracy: 0.7031\n",
      "DS=2 's accuracy: 0.4706\n",
      "DS=3 's accuracy: 0.0938\n",
      "DS=4 's accuracy: 0.6801\n"
     ]
    }
   ],
   "source": [
    "print(\"\\nPrecision (recall) for each category:\")\n",
    "for i in range(1, 5):\n",
    "    class_idx = i - 1\n",
    "    tp = conf_matrix[class_idx, class_idx]\n",
    "    actual = conf_matrix[class_idx, :].sum()\n",
    "    accuracy = tp / actual if actual != 0 else 0.0\n",
    "    print(f\"DS={i} 's accuracy: {accuracy:.4f}\")"
   ]
  },
  {
   "cell_type": "code",
   "execution_count": null,
   "id": "573a5730-f56e-4cbb-8b6e-86c053349b18",
   "metadata": {},
   "outputs": [],
   "source": []
  },
  {
   "cell_type": "code",
   "execution_count": null,
   "id": "bd4031d0-d75b-459b-a9cc-4bece55d9270",
   "metadata": {},
   "outputs": [],
   "source": []
  },
  {
   "cell_type": "code",
   "execution_count": null,
   "id": "d4ba8487-d0a2-4d82-83ff-617b890378d8",
   "metadata": {},
   "outputs": [],
   "source": []
  },
  {
   "cell_type": "code",
   "execution_count": null,
   "id": "a74fea73-0082-41ee-8d11-e36f4886caa0",
   "metadata": {},
   "outputs": [],
   "source": []
  }
 ],
 "metadata": {
  "kernelspec": {
   "display_name": "Python [conda env:base] *",
   "language": "python",
   "name": "conda-base-py"
  },
  "language_info": {
   "codemirror_mode": {
    "name": "ipython",
    "version": 3
   },
   "file_extension": ".py",
   "mimetype": "text/x-python",
   "name": "python",
   "nbconvert_exporter": "python",
   "pygments_lexer": "ipython3",
   "version": "3.12.7"
  }
 },
 "nbformat": 4,
 "nbformat_minor": 5
}
