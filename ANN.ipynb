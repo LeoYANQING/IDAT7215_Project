{
 "cells": [
  {
   "cell_type": "code",
   "execution_count": 1,
   "id": "552bc933-82cb-432d-81c4-3844e0634c0a",
   "metadata": {},
   "outputs": [],
   "source": [
    "import pandas as pd\n",
    "import numpy as np\n",
    "from sklearn.model_selection import train_test_split\n",
    "from sklearn.preprocessing import StandardScaler\n",
    "import torch\n",
    "import torch.nn as nn\n",
    "import torch.optim as optim\n",
    "from torch.utils.data import DataLoader, TensorDataset\n",
    "from sklearn.metrics import confusion_matrix, accuracy_score, precision_score, recall_score, f1_score"
   ]
  },
  {
   "cell_type": "code",
   "execution_count": 2,
   "id": "668c1399-fb57-4e3b-becb-b47ed9ec1472",
   "metadata": {},
   "outputs": [
    {
     "name": "stdout",
     "output_type": "stream",
     "text": [
      "The first few rows of data:\n",
      "   ID        P1        P2        P3        P4    P5        P6       BC1  BC2  \\\n",
      "0   1  0.733800  0.588313  0.824660  0.420993  0.00  0.599542  0.257812    0   \n",
      "1   2  0.738113  0.604497  0.477239  0.252442  0.75  0.544622  0.148438    0   \n",
      "2   3  0.742815  0.602485  0.755395  0.434462  0.75  0.560641  0.093750    1   \n",
      "3   4  0.739635  0.602389  0.768629  0.484940  0.75  0.556064  0.148438    0   \n",
      "4   5  0.740052  0.605121  0.783227  0.486592  0.75  0.542334  0.148438    0   \n",
      "\n",
      "   BC3  BC4  BC5  BC6       BC7       BC8  DS  \n",
      "0  0.0    0  0.8  1.0  0.000000  0.827586   4  \n",
      "1  0.0    1  0.8  1.0  0.666667  0.931034   1  \n",
      "2  1.0    1  0.8  1.0  0.000000  0.655172   1  \n",
      "3  0.0    0  0.8  1.0  0.000000  0.965517   1  \n",
      "4  0.0    1  0.8  0.5  0.666667  0.931034   1  \n",
      "\n",
      "Data information:\n",
      "<class 'pandas.core.frame.DataFrame'>\n",
      "RangeIndex: 30590 entries, 0 to 30589\n",
      "Data columns (total 16 columns):\n",
      " #   Column  Non-Null Count  Dtype  \n",
      "---  ------  --------------  -----  \n",
      " 0   ID      30590 non-null  int64  \n",
      " 1   P1      30590 non-null  float64\n",
      " 2   P2      30590 non-null  float64\n",
      " 3   P3      30590 non-null  float64\n",
      " 4   P4      30590 non-null  float64\n",
      " 5   P5      30590 non-null  float64\n",
      " 6   P6      30590 non-null  float64\n",
      " 7   BC1     30590 non-null  float64\n",
      " 8   BC2     30590 non-null  int64  \n",
      " 9   BC3     30590 non-null  float64\n",
      " 10  BC4     30590 non-null  int64  \n",
      " 11  BC5     30590 non-null  float64\n",
      " 12  BC6     30590 non-null  float64\n",
      " 13  BC7     30590 non-null  float64\n",
      " 14  BC8     30590 non-null  float64\n",
      " 15  DS      30590 non-null  int64  \n",
      "dtypes: float64(12), int64(4)\n",
      "memory usage: 3.7 MB\n",
      "None\n"
     ]
    }
   ],
   "source": [
    "# Reading Data\n",
    "file_path = r'C:\\Users\\sjh\\Desktop\\JUPITER\\Earthquake Damage Data111.xlsx'\n",
    "df = pd.read_excel(file_path)\n",
    "\n",
    "# View data structure\n",
    "print(\"The first few rows of data:\")\n",
    "print(df.head())\n",
    "print(\"\\nData information:\")\n",
    "print(df.info())"
   ]
  },
  {
   "cell_type": "code",
   "execution_count": 3,
   "id": "da5ff407-3a39-461a-bc2c-848ce6c3b25c",
   "metadata": {},
   "outputs": [
    {
     "name": "stdout",
     "output_type": "stream",
     "text": [
      "\n",
      "Check data type:\n",
      "Data type of X: float64\n",
      "Data type of y: int64\n"
     ]
    }
   ],
   "source": [
    "# Extracting features and labels\n",
    "X = df.iloc[1:, :-1].values\n",
    "y = df.iloc[1:, -1].values\n",
    "\n",
    "# Checking Data Types\n",
    "print(\"\\nCheck data type:\")\n",
    "print(\"Data type of X:\", X.dtype)\n",
    "print(\"Data type of y:\", y.dtype)"
   ]
  },
  {
   "cell_type": "code",
   "execution_count": 4,
   "id": "d3a668e9-4d11-43b0-9a1c-ebcf933ab11e",
   "metadata": {},
   "outputs": [],
   "source": [
    "# Label conversion\n",
    "y = y - 1\n",
    "\n",
    "# Data Standardization\n",
    "scaler = StandardScaler()\n",
    "X = scaler.fit_transform(X)"
   ]
  },
  {
   "cell_type": "code",
   "execution_count": 5,
   "id": "d2c2d348-058e-4620-a309-f36321e3cb0d",
   "metadata": {},
   "outputs": [],
   "source": [
    "# Divide the training set and test set\n",
    "X_train, X_test, y_train, y_test = train_test_split(X, y, test_size=0.2, random_state=42)"
   ]
  },
  {
   "cell_type": "code",
   "execution_count": 6,
   "id": "70214977-384e-46e9-b89b-2484dde49e6f",
   "metadata": {},
   "outputs": [],
   "source": [
    "# Convert to PyTorch Tensor\n",
    "X_train_tensor = torch.tensor(X_train, dtype=torch.float32)\n",
    "y_train_tensor = torch.tensor(y_train, dtype=torch.long)\n",
    "X_test_tensor = torch.tensor(X_test, dtype=torch.float32)\n",
    "y_test_tensor = torch.tensor(y_test, dtype=torch.long)\n",
    "\n",
    "# Creating a DataLoader\n",
    "train_dataset = TensorDataset(X_train_tensor, y_train_tensor)\n",
    "train_loader = DataLoader(train_dataset, batch_size=32, shuffle=True)"
   ]
  },
  {
   "cell_type": "code",
   "execution_count": 7,
   "id": "9f403a67-c348-4521-b520-cf6b206f582a",
   "metadata": {},
   "outputs": [],
   "source": [
    "# Defining the ANN model\n",
    "class ANN(nn.Module):\n",
    "    def __init__(self, input_size, hidden_size1, hidden_size2, num_classes):\n",
    "        super(ANN, self).__init__()\n",
    "        self.layer1 = nn.Linear(input_size, hidden_size1)\n",
    "        self.relu1 = nn.ReLU()\n",
    "        self.layer2 = nn.Linear(hidden_size1, hidden_size2)\n",
    "        self.relu2 = nn.ReLU()\n",
    "        self.layer3 = nn.Linear(hidden_size2, num_classes)\n",
    "    \n",
    "    def forward(self, x):\n",
    "        x = self.layer1(x)\n",
    "        x = self.relu1(x)\n",
    "        x = self.layer2(x)\n",
    "        x = self.relu2(x)\n",
    "        x = self.layer3(x)\n",
    "        return x"
   ]
  },
  {
   "cell_type": "code",
   "execution_count": 8,
   "id": "573a5730-f56e-4cbb-8b6e-86c053349b18",
   "metadata": {},
   "outputs": [],
   "source": [
    "# Initialize the model\n",
    "input_size = X_train.shape[1]\n",
    "hidden_size1 = 64\n",
    "hidden_size2 = 32\n",
    "num_classes = 4\n",
    "model = ANN(input_size, hidden_size1, hidden_size2, num_classes)\n",
    "\n",
    "# Defining loss function and optimizer\n",
    "class_counts = np.bincount(y_train) \n",
    "class_weights = 1.0 / class_counts  \n",
    "class_weights = torch.tensor(class_weights, dtype=torch.float32)\n",
    "criterion = nn.CrossEntropyLoss(weight=class_weights)\n",
    "optimizer = optim.Adam(model.parameters(), lr=0.001)"
   ]
  },
  {
   "cell_type": "code",
   "execution_count": 9,
   "id": "bd4031d0-d75b-459b-a9cc-4bece55d9270",
   "metadata": {},
   "outputs": [
    {
     "name": "stdout",
     "output_type": "stream",
     "text": [
      "Epoch [10/100], Loss: 0.7377\n",
      "Epoch [20/100], Loss: 0.5767\n",
      "Epoch [30/100], Loss: 0.5676\n",
      "Epoch [40/100], Loss: 0.2392\n",
      "Epoch [50/100], Loss: 0.5560\n",
      "Epoch [60/100], Loss: 0.6896\n",
      "Epoch [70/100], Loss: 0.7379\n",
      "Epoch [80/100], Loss: 0.4333\n",
      "Epoch [90/100], Loss: 0.7769\n",
      "Epoch [100/100], Loss: 0.6711\n"
     ]
    }
   ],
   "source": [
    "# Training the model\n",
    "num_epochs = 100\n",
    "for epoch in range(num_epochs):\n",
    "    for batch_X, batch_y in train_loader:\n",
    "        outputs = model(batch_X)\n",
    "        loss = criterion(outputs, batch_y)\n",
    "        \n",
    "        optimizer.zero_grad()\n",
    "        loss.backward()\n",
    "        optimizer.step()\n",
    "    \n",
    "    if (epoch+1) % 10 == 0:\n",
    "        print(f'Epoch [{epoch+1}/{num_epochs}], Loss: {loss.item():.4f}')"
   ]
  },
  {
   "cell_type": "code",
   "execution_count": 10,
   "id": "d4ba8487-d0a2-4d82-83ff-617b890378d8",
   "metadata": {},
   "outputs": [
    {
     "name": "stdout",
     "output_type": "stream",
     "text": [
      "Confusion Matrix:\n",
      "[[3891   55  358 1243]\n",
      " [  11    6    0    0]\n",
      " [  21    1    1    9]\n",
      " [ 141    3   24  354]]\n",
      "Accuracy: 0.6949983654789147\n",
      "Precision: 0.3181932932328931\n",
      "Recall: 0.440953086198486\n",
      "F1 Score: 0.3233911823433907\n"
     ]
    }
   ],
   "source": [
    "# Evaluating the Model\n",
    "with torch.no_grad():\n",
    "    outputs = model(X_test_tensor)\n",
    "    _, predicted = torch.max(outputs, 1)\n",
    "    y_pred = predicted.numpy()\n",
    "\n",
    "# Restore original label range\n",
    "y_pred_original = y_pred + 1\n",
    "y_test_original = y_test + 1\n",
    "\n",
    "# Calculating evaluation metrics\n",
    "conf_matrix = confusion_matrix(y_test_original, y_pred_original)\n",
    "accuracy = accuracy_score(y_test_original, y_pred_original)\n",
    "precision = precision_score(y_test_original, y_pred_original, average='macro')\n",
    "recall = recall_score(y_test_original, y_pred_original, average='macro')\n",
    "f1 = f1_score(y_test_original, y_pred_original, average='macro')\n",
    "\n",
    "print(\"Confusion Matrix:\")\n",
    "print(conf_matrix)\n",
    "print(f\"Accuracy: {accuracy}\")\n",
    "print(f\"Precision: {precision}\")\n",
    "print(f\"Recall: {recall}\")\n",
    "print(f\"F1 Score: {f1}\")"
   ]
  },
  {
   "cell_type": "code",
   "execution_count": 11,
   "id": "a74fea73-0082-41ee-8d11-e36f4886caa0",
   "metadata": {},
   "outputs": [
    {
     "name": "stdout",
     "output_type": "stream",
     "text": [
      "\n",
      "Precision (recall) for each category:\n",
      "DS=1 's accuracy: 0.7015\n",
      "DS=2 's accuracy: 0.3529\n",
      "DS=3 's accuracy: 0.0312\n",
      "DS=4 's accuracy: 0.6782\n"
     ]
    }
   ],
   "source": [
    "# The precision of each category\n",
    "print(\"\\nPrecision (recall) for each category:\")\n",
    "for i in range(1, 5):\n",
    "    class_idx = i - 1\n",
    "    tp = conf_matrix[class_idx, class_idx]\n",
    "    actual = conf_matrix[class_idx, :].sum()\n",
    "    accuracy = tp / actual if actual != 0 else 0.0\n",
    "    print(f\"DS={i} 's accuracy: {accuracy:.4f}\")"
   ]
  },
  {
   "cell_type": "code",
   "execution_count": 12,
   "id": "ccd3b25a-98c3-4eca-9bbf-527f6fdab359",
   "metadata": {},
   "outputs": [],
   "source": [
    "# Define a function to run the model and return the evaluation results\n",
    "def run_model_with_seed(seed):\n",
    "    # Setting the random seed\n",
    "    np.random.seed(seed)\n",
    "    torch.manual_seed(seed)\n",
    "    \n",
    "    # Re-partition the training and test sets\n",
    "    X_train, X_test, y_train, y_test = train_test_split(X, y, test_size=0.2, random_state=seed)\n",
    "    \n",
    "    # Convert to PyTorch Tensor\n",
    "    X_train_tensor = torch.tensor(X_train, dtype=torch.float32)\n",
    "    y_train_tensor = torch.tensor(y_train, dtype=torch.long)\n",
    "    X_test_tensor = torch.tensor(X_test, dtype=torch.float32)\n",
    "    y_test_tensor = torch.tensor(y_test, dtype=torch.long)\n",
    "    \n",
    "    # Creating a DataLoader\n",
    "    train_dataset = TensorDataset(X_train_tensor, y_train_tensor)\n",
    "    train_loader = DataLoader(train_dataset, batch_size=32, shuffle=True)\n",
    "    \n",
    "    # Initialize the model\n",
    "    model = ANN(input_size, hidden_size1, hidden_size2, num_classes)\n",
    "    \n",
    "    # Defining loss function and optimizer\n",
    "    class_counts = np.bincount(y_train)\n",
    "    class_weights = 1.0 / class_counts\n",
    "    class_weights = torch.tensor(class_weights, dtype=torch.float32)\n",
    "    criterion = nn.CrossEntropyLoss(weight=class_weights)\n",
    "    optimizer = optim.Adam(model.parameters(), lr=0.001)\n",
    "    \n",
    "    # Training the model\n",
    "    for epoch in range(num_epochs):\n",
    "        for batch_X, batch_y in train_loader:\n",
    "            outputs = model(batch_X)\n",
    "            loss = criterion(outputs, batch_y)\n",
    "            \n",
    "            optimizer.zero_grad()\n",
    "            loss.backward()\n",
    "            optimizer.step()\n",
    "    \n",
    "    # Evaluating the Model\n",
    "    with torch.no_grad():\n",
    "        outputs = model(X_test_tensor)\n",
    "        _, predicted = torch.max(outputs, 1)\n",
    "        y_pred = predicted.numpy()\n",
    "    \n",
    "    # Restore original label range\n",
    "    y_pred_original = y_pred + 1\n",
    "    y_test_original = y_test + 1\n",
    "    \n",
    "    # Calculating evaluation metrics\n",
    "    accuracy = accuracy_score(y_test_original, y_pred_original)\n",
    "    precision = precision_score(y_test_original, y_pred_original, average='macro')\n",
    "    recall = recall_score(y_test_original, y_pred_original, average='macro')\n",
    "    f1 = f1_score(y_test_original, y_pred_original, average='macro')\n",
    "    \n",
    "    return accuracy, precision, recall, f1"
   ]
  },
  {
   "cell_type": "code",
   "execution_count": 13,
   "id": "afd76509-84b0-47a2-950a-8896e20c2091",
   "metadata": {},
   "outputs": [
    {
     "name": "stdout",
     "output_type": "stream",
     "text": [
      "\n",
      "Running with seed 565\n",
      "Run 1 - Accuracy: 0.7052958483164433, Precision: 0.3204610497470962, Recall: 0.5282315119408327, F1: 0.3342312762544939\n",
      "\n",
      "Running with seed 260\n",
      "Run 2 - Accuracy: 0.6696632886564237, Precision: 0.3189022582016385, Recall: 0.5057292752414704, F1: 0.3236281164694247\n",
      "\n",
      "Running with seed 10\n",
      "Run 3 - Accuracy: 0.6605099705786205, Precision: 0.3090696794995485, Recall: 0.4986520169314402, F1: 0.3085548228200709\n",
      "\n",
      "Running with seed 265\n",
      "Run 4 - Accuracy: 0.6655769859431186, Precision: 0.3164185844546312, Recall: 0.5244288639759069, F1: 0.3197456414789542\n",
      "\n",
      "Running with seed 53\n",
      "Run 5 - Accuracy: 0.7069303694017652, Precision: 0.34980493379423155, Recall: 0.48167394278459186, F1: 0.36286229360702765\n",
      "\n",
      "Average Results Over 5 Runs:\n",
      "Average Accuracy: 0.6816\n",
      "Average Precision: 0.3229\n",
      "Average Recall: 0.5077\n",
      "Average F1 Score: 0.3298\n"
     ]
    }
   ],
   "source": [
    "# Generate five random seeds and run the model\n",
    "num_runs = 5\n",
    "results = []\n",
    "\n",
    "for i in range(num_runs):\n",
    "    seed = np.random.randint(1000)\n",
    "    print(f\"\\nRunning with seed {seed}\")\n",
    "    accuracy, precision, recall, f1 = run_model_with_seed(seed)\n",
    "    results.append((accuracy, precision, recall, f1))\n",
    "    print(f\"Run {i+1} - Accuracy: {accuracy}, Precision: {precision}, Recall: {recall}, F1: {f1}\")\n",
    "\n",
    "# Calculate the average result\n",
    "avg_accuracy = np.mean([res[0] for res in results])\n",
    "avg_precision = np.mean([res[1] for res in results])\n",
    "avg_recall = np.mean([res[2] for res in results])\n",
    "avg_f1 = np.mean([res[3] for res in results])\n",
    "\n",
    "print(\"\\nAverage Results Over 5 Runs:\")\n",
    "print(f\"Average Accuracy: {avg_accuracy:.4f}\")\n",
    "print(f\"Average Precision: {avg_precision:.4f}\")\n",
    "print(f\"Average Recall: {avg_recall:.4f}\")\n",
    "print(f\"Average F1 Score: {avg_f1:.4f}\")"
   ]
  },
  {
   "cell_type": "code",
   "execution_count": null,
   "id": "1559188b-465f-4189-98d9-130916208d89",
   "metadata": {},
   "outputs": [],
   "source": []
  },
  {
   "cell_type": "code",
   "execution_count": null,
   "id": "84749c2d-4eb9-49fb-9bf1-353d73faee1e",
   "metadata": {},
   "outputs": [],
   "source": []
  },
  {
   "cell_type": "code",
   "execution_count": null,
   "id": "3ffb97ad-62ce-4fa4-9352-08e5bebce934",
   "metadata": {},
   "outputs": [],
   "source": []
  }
 ],
 "metadata": {
  "kernelspec": {
   "display_name": "Python [conda env:base] *",
   "language": "python",
   "name": "conda-base-py"
  },
  "language_info": {
   "codemirror_mode": {
    "name": "ipython",
    "version": 3
   },
   "file_extension": ".py",
   "mimetype": "text/x-python",
   "name": "python",
   "nbconvert_exporter": "python",
   "pygments_lexer": "ipython3",
   "version": "3.12.7"
  }
 },
 "nbformat": 4,
 "nbformat_minor": 5
}
